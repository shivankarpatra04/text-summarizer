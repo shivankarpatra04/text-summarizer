{
 "cells": [
  {
   "cell_type": "markdown",
   "id": "e428187a-16bf-4215-b047-5d8ef5a820ab",
   "metadata": {},
   "source": [
    "# Import Necessary Libraries\n",
    "\n",
    "We will use the following libraries to process and analyze text from PDF files:\n",
    "\n",
    "1. **pdfminer.high_level**: To extract text from PDF files.\n",
    "2. **re**: Python's regular expressions module for searching and replacing text patterns.\n",
    "3. **nltk**: The Natural Language Toolkit, used for text processing tasks.\n",
    "4. **Counter from collections**: For counting word frequencies."
   ]
  },
  {
   "cell_type": "code",
   "execution_count": 10,
   "id": "9cc90fca-7d80-4b4a-87b9-e60dc6aa2588",
   "metadata": {},
   "outputs": [],
   "source": [
    "from pdfminer.high_level import extract_text\n",
    "import re\n",
    "import nltk\n",
    "from nltk.corpus import stopwords\n",
    "from nltk.tokenize import sent_tokenize\n",
    "from collections import Counter"
   ]
  },
  {
   "cell_type": "markdown",
   "id": "87f6fad2-ffd6-48c3-8c10-e183c2aa8e64",
   "metadata": {},
   "source": [
    "# Download NLTK data ( Already downloaded)"
   ]
  },
  {
   "cell_type": "code",
   "execution_count": 11,
   "id": "0e8c8058-c75b-49ff-b748-21ea34d786da",
   "metadata": {},
   "outputs": [
    {
     "name": "stderr",
     "output_type": "stream",
     "text": [
      "[nltk_data] Downloading package punkt to\n",
      "[nltk_data]     C:\\Users\\shivankar\\AppData\\Roaming\\nltk_data...\n",
      "[nltk_data]   Package punkt is already up-to-date!\n",
      "[nltk_data] Downloading package stopwords to\n",
      "[nltk_data]     C:\\Users\\shivankar\\AppData\\Roaming\\nltk_data...\n",
      "[nltk_data]   Package stopwords is already up-to-date!\n"
     ]
    },
    {
     "data": {
      "text/plain": [
       "True"
      ]
     },
     "execution_count": 11,
     "metadata": {},
     "output_type": "execute_result"
    }
   ],
   "source": [
    "# Download necessary NLTK data\n",
    "nltk.download('punkt')\n",
    "nltk.download('stopwords')"
   ]
  },
  {
   "cell_type": "markdown",
   "id": "e8e91d7d-7c81-490f-80d8-805b3d3b284a",
   "metadata": {},
   "source": [
    "# Extract Text from PDF\n",
    "\n",
    "## Function: `extract_text_from_pdf`\n",
    "\n",
    "This function will:\n",
    "1. **Extract Text**: Use `pdfminer` to read the text from a PDF file.\n",
    "2. **Fix Spacing**:\n",
    "   - Insert spaces between lowercase and uppercase letters (e.g., \"helloWorld\" becomes \"hello World\").\n",
    "   - Ensure there’s a space after periods and commas if followed by a letter (e.g., \"end.Here\" becomes \"end. Here\").\n",
    "   - Add spaces between words and numbers (e.g., \"word123\" becomes \"word 123\").\n",
    "3. **Remove Extra Whitespace**: Collapse multiple spaces into one and trim any leading or trailing spaces."
   ]
  },
  {
   "cell_type": "code",
   "execution_count": 12,
   "id": "9cb70977-10b3-41d7-81c1-1ba48407a393",
   "metadata": {},
   "outputs": [],
   "source": [
    "def extract_text_from_pdf(pdf_path):\n",
    "    # Extract text using pdfminer\n",
    "    text = extract_text(pdf_path)\n",
    "    \n",
    "    # Join characters that are incorrectly separated\n",
    "    text = re.sub(r'(?<=[a-z])(?=[A-Z])', ' ', text)  # Insert space between lowercase and uppercase letters\n",
    "    text = re.sub(r'(?<=[.])(?=[A-Za-z])', ' ', text)  # Insert space after periods if not followed by space\n",
    "    text = re.sub(r'(?<=[,])(?=[A-Za-z])', ' ', text)  # Insert space after commas if not followed by space\n",
    "    text = re.sub(r'(?<=\\w)(?=\\d)', ' ', text)  # Insert space between words and digits\n",
    "    text = re.sub(r'(?<=\\d)(?=\\w)', ' ', text)  # Insert space between digits and words\n",
    "\n",
    "    # Remove extra whitespace\n",
    "    text = re.sub(r'\\s+', ' ', text).strip()\n",
    "    \n",
    "    return text"
   ]
  },
  {
   "cell_type": "markdown",
   "id": "c5892cb5-3eef-469f-acc1-a7fe1054b545",
   "metadata": {},
   "source": [
    "# Summarize Text\n",
    "\n",
    "We will define a function `summarize` that performs the following tasks:\n",
    "\n",
    "1. **Tokenize Sentences**: Splits the text into individual sentences.\n",
    "2. **Process Words**:\n",
    "    - Converts text to lowercase and splits it into words.\n",
    "    - Removes common English stopwords and non-alphanumeric characters.\n",
    "3. **Count Word Frequencies**: Uses `Counter` to count how often each word appears in the text.\n",
    "4. **Score Sentences**: Assigns a score to each sentence based on the frequency of the words it contains.\n",
    "5. **Select Top Sentences**: Picks the top `num_sentences` sentences with the highest scores.\n",
    "6. **Construct Summary**: Joins these top sentences into a single summary string."
   ]
  },
  {
   "cell_type": "code",
   "execution_count": 13,
   "id": "59851d49-9ab1-4c9a-a0ad-4798bd519810",
   "metadata": {},
   "outputs": [],
   "source": [
    "def summarize(text, num_sentences=25):\n",
    "    sentences = sent_tokenize(text)\n",
    "    words = text.lower().split()\n",
    "    \n",
    "    stop_words = set(stopwords.words('english'))\n",
    "    words = [word for word in words if word not in stop_words and word.isalnum()]\n",
    "    \n",
    "    word_freq = Counter(words)\n",
    "    \n",
    "    sentence_scores = {}\n",
    "    for sentence in sentences:\n",
    "        for word in sentence.lower().split():\n",
    "            if word in word_freq:\n",
    "                if sentence not in sentence_scores:\n",
    "                    sentence_scores[sentence] = word_freq[word]\n",
    "                else:\n",
    "                    sentence_scores[sentence] += word_freq[word]\n",
    "    \n",
    "    summary_sentences = sorted(sentence_scores, key=sentence_scores.get, reverse=True)[:num_sentences]\n",
    "    \n",
    "    summary_sentences = [sentence for sentence in sentences if sentence in summary_sentences]\n",
    "    \n",
    "    return ' '.join(summary_sentences)"
   ]
  },
  {
   "cell_type": "markdown",
   "id": "2798c938-8dfc-4a5e-a5ed-e99a46001974",
   "metadata": {},
   "source": [
    "# Specify PDF Path"
   ]
  },
  {
   "cell_type": "code",
   "execution_count": 17,
   "id": "2d4d086b-9ba6-4d11-8427-22a7b758c2aa",
   "metadata": {},
   "outputs": [],
   "source": [
    "pdf_path = r\"D:\\Shivankar\\Resulation AI\\New folder\\Operations Management.pdf\""
   ]
  },
  {
   "cell_type": "markdown",
   "id": "78286f1d-a7b9-4e56-8a2e-ed73888b6790",
   "metadata": {},
   "source": [
    "# Extract and Print Text\n",
    "\n",
    "In this section, we will:\n",
    "1. Call the `extract_text_from_pdf` function to get the full text from the PDF.\n",
    "2. Print the length (word count) of the extracted text.\n",
    "3. Print the first 500 characters as a sample of the extracted text."
   ]
  },
  {
   "cell_type": "code",
   "execution_count": 18,
   "id": "d91f0e36-23f3-42f3-a682-48f6e7c2eedd",
   "metadata": {},
   "outputs": [
    {
     "name": "stdout",
     "output_type": "stream",
     "text": [
      "Extracted text length: 5443 words\n",
      "\n",
      "Sample of extracted text:\n",
      "Operations Management: Oil and Gas Report Introduction Operations management is a branch of management that deals with the designing and supervision of operational processes in a business organization. Operations management covers the responsibility over all processes that involve the production of goods and services as well as the delivery of such productions to the final consumers. In its duties, an operations management department ensures that processes are planned for and executed in an effi\n"
     ]
    }
   ],
   "source": [
    "# Extract text from PDF\n",
    "full_text = extract_text_from_pdf(pdf_path)\n",
    "\n",
    "# Print extracted text length\n",
    "print(f\"Extracted text length: {len(full_text.split())} words\")\n",
    "\n",
    "# Print a sample of the extracted text\n",
    "print(\"\\nSample of extracted text:\")\n",
    "print(full_text[:500])"
   ]
  },
  {
   "cell_type": "markdown",
   "id": "9f1e4eb9-ae8b-4289-934c-bfeb8e061693",
   "metadata": {},
   "source": [
    "# Generate and Print Summary\n",
    "\n",
    "1. Calls summarize to create a summary of the extracted text.\n",
    "2. Prints the summary\n",
    "3. Prints the length (word count) of the summary."
   ]
  },
  {
   "cell_type": "code",
   "execution_count": 16,
   "id": "8050864c-a5d8-4c11-b506-0e48b7ab050d",
   "metadata": {},
   "outputs": [
    {
     "name": "stdout",
     "output_type": "stream",
     "text": [
      "\n",
      "Summary:\n",
      "Operations Management: Oil and Gas Report Introduction Operations management is a branch of management that deals with the designing and supervision of operational processes in a business organization. Operations management covers the responsibility over all processes that involve the production of goods and services as well as the delivery of such productions to the final consumers. Operations management ensures “effective management of resources and activities that produce or deliver goods and services of any business” (Sox 1). Operations management therefore involves the management of “people, materials, equipments and information resources that a business may need” (Sox 1) in its daily activities. History of Operations Management The history of operations management stems all the way back to the eighteenth century. Operations management is however still on its development with focus being made on its elements such as “market focus, globalization, quality management systems, supply chain management and business process analysis, improvement or reengineering” (Business 1) among others. The developments were later enhanced by establishment of mass production approach in operations, quality management and the later developments in technology that enriched the operations management department towards the end of the twentieth century (Khanna 8). Factors Affecting Development of Operations Management Operations management has, along its, history been characterized with a lot of changes that have ensured its evolution over time to its current level. Principles of Operations Management With the main aim of operations management being the improvement in processes in an organization, the management applies a number of approaches to achieving its objectives. Principles of operations management are applicable through the management system in accordance with the sub departments of operations management. Functions of Operations Management The fundamental role of the operations management is to ensure that it understands the whole operation process for an effective management of the activities that are involved. Measures to establish and drive operations to improvements lies with the operations management (Rowbotham, Azhashemi and Galloway 8). In pursuit of these objectives, operations management in any given organization has responsibilities that include “planning, organizing, staffing, leading, and controlling” elements in the organization’s production processes (Haynes 4). In consideration of market trends and in liaison with other departments, whether in the organization or external consultants, the operations management makes plans for timely productions that will ensure customers satisfaction as well as the correct commodities and brands according to market needs (Haynes 6). According to Elearn, planning and control is a necessity for the operations management following the process of designing operations in an organization. The organizational duty of operations management that covers decisions as to how operations are to be undertaken offers directions as to “what task will be done, where, when, and by whom” (Langabeer 1 6). Strategies in operations management are therefore those approaches that are implemented by the management in its functions such as planning, organization and control among others. Since the aim of management strategies is to make improvements in processes and results, strategies often outline changes that are necessary to help the management and the entire organization to achieve its goals. Strategies therefore provides for the identification of steps that needs to be taken by the management and the implementation of such steps to the attainment of the objectives and functions of operations management (Lowson 4 2). Operations management also outlines strategies for controlling production costs of its processes which is made through provisions for the production chain. Objectives of Operations Management It has been established that operations management is charged with specific duties in an organization that relates to the production of goods and services. With the dual purpose of ensuring customer satisfaction and reducing the costs incurred in resources, the central goal of the operations management thus remains to be the balancing of the two concepts, customer satisfaction and costs in resources, in order to satisfy the interest of both its organization in terms of profitability and that of customers in terms of timely and cost friendly deliveries (Kumar 1 3). Operations Management in Oil and Gas Industry In the supply chain of oil and gas for example, the operations activities starts with explorations for availability of the petroleum resources by experts. The operations processes in the supply chain of oil and gas faces a lot of factors that calls for the application of the management to create a balance between consumer satisfaction in terms of pricing and organization’s profitability in the long run. Advantages and Disadvantages of Operations Management Operations management derives a lot of benefits to an organization through the application of the functions of operation managers.\n",
      "\n",
      "Summary length: 758 words\n"
     ]
    }
   ],
   "source": [
    "# Summarize the extracted text\n",
    "summary = summarize(full_text)\n",
    "\n",
    "# Print the summary\n",
    "print(\"\\nSummary:\")\n",
    "print(summary)\n",
    "\n",
    "# Print summary length\n",
    "print(f\"\\nSummary length: {len(summary.split())} words\")"
   ]
  },
  {
   "cell_type": "code",
   "execution_count": 2,
   "id": "e0704a96-75de-441e-9e67-aca0e180155b",
   "metadata": {},
   "outputs": [
    {
     "name": "stdout",
     "output_type": "stream",
     "text": [
      "Streamlit version: 1.35.0\n",
      "pdfminer.six version: 20240706\n",
      "NLTK version: 3.8.1\n"
     ]
    }
   ],
   "source": [
    "import streamlit\n",
    "import pdfminer\n",
    "import nltk\n",
    "\n",
    "print(f\"Streamlit version: {streamlit.__version__}\")\n",
    "print(f\"pdfminer.six version: {pdfminer.__version__}\")\n",
    "print(f\"NLTK version: {nltk.__version__}\")"
   ]
  },
  {
   "cell_type": "code",
   "execution_count": null,
   "id": "93a16267-7944-4bb1-adac-43d926215dad",
   "metadata": {},
   "outputs": [],
   "source": []
  }
 ],
 "metadata": {
  "kernelspec": {
   "display_name": "Python 3 (ipykernel)",
   "language": "python",
   "name": "python3"
  },
  "language_info": {
   "codemirror_mode": {
    "name": "ipython",
    "version": 3
   },
   "file_extension": ".py",
   "mimetype": "text/x-python",
   "name": "python",
   "nbconvert_exporter": "python",
   "pygments_lexer": "ipython3",
   "version": "3.12.4"
  }
 },
 "nbformat": 4,
 "nbformat_minor": 5
}
